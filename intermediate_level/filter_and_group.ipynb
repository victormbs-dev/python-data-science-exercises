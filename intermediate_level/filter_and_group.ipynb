{
 "cells": [
  {
   "cell_type": "code",
   "execution_count": null,
   "metadata": {},
   "outputs": [
    {
     "ename": "ValueError",
     "evalue": "The 'filter_key' parameter must be a non-empty string.",
     "output_type": "error",
     "traceback": [
      "\u001b[1;31m---------------------------------------------------------------------------\u001b[0m",
      "\u001b[1;31mValueError\u001b[0m                                Traceback (most recent call last)",
      "Cell \u001b[1;32mIn[3], line 52\u001b[0m\n\u001b[0;32m     49\u001b[0m     \u001b[38;5;28;01mreturn\u001b[39;00m \u001b[38;5;28mdict\u001b[39m(grouped_count)          \u001b[38;5;66;03m# Convert the defaultdict to a regular dictionary\u001b[39;00m\n\u001b[0;32m     51\u001b[0m \u001b[38;5;66;03m# Execute the function with a test list\u001b[39;00m\n\u001b[1;32m---> 52\u001b[0m \u001b[43mfilter_and_group\u001b[49m\u001b[43m(\u001b[49m\u001b[43mdata\u001b[49m\u001b[43m,\u001b[49m\u001b[43m \u001b[49m\u001b[38;5;124;43m\"\u001b[39;49m\u001b[38;5;124;43m\"\u001b[39;49m\u001b[43m,\u001b[49m\u001b[43m \u001b[49m\u001b[38;5;241;43m28\u001b[39;49m\u001b[43m,\u001b[49m\u001b[43m \u001b[49m\u001b[38;5;124;43m\"\u001b[39;49m\u001b[38;5;124;43mciudad\u001b[39;49m\u001b[38;5;124;43m\"\u001b[39;49m\u001b[43m)\u001b[49m\n\u001b[0;32m     54\u001b[0m \u001b[38;5;66;03m# Output esperado: {\"Ciudad A\": 2, \"Ciudad B\": 1}\u001b[39;00m\n",
      "Cell \u001b[1;32mIn[3], line 29\u001b[0m, in \u001b[0;36mfilter_and_group\u001b[1;34m(info, filter_key, value, group_by)\u001b[0m\n\u001b[0;32m     26\u001b[0m     \u001b[38;5;28;01mraise\u001b[39;00m \u001b[38;5;167;01mValueError\u001b[39;00m(\u001b[38;5;124m\"\u001b[39m\u001b[38;5;124mThe \u001b[39m\u001b[38;5;124m'\u001b[39m\u001b[38;5;124minfo\u001b[39m\u001b[38;5;124m'\u001b[39m\u001b[38;5;124m parameter must be a non-empty list of dictionaries.\u001b[39m\u001b[38;5;124m\"\u001b[39m)\n\u001b[0;32m     28\u001b[0m \u001b[38;5;28;01mif\u001b[39;00m \u001b[38;5;129;01mnot\u001b[39;00m filter_key:\n\u001b[1;32m---> 29\u001b[0m     \u001b[38;5;28;01mraise\u001b[39;00m \u001b[38;5;167;01mValueError\u001b[39;00m(\u001b[38;5;124m\"\u001b[39m\u001b[38;5;124mThe \u001b[39m\u001b[38;5;124m'\u001b[39m\u001b[38;5;124mfilter_key\u001b[39m\u001b[38;5;124m'\u001b[39m\u001b[38;5;124m parameter must be a non-empty string.\u001b[39m\u001b[38;5;124m\"\u001b[39m)\n\u001b[0;32m     31\u001b[0m \u001b[38;5;28;01mif\u001b[39;00m \u001b[38;5;129;01mnot\u001b[39;00m value:\n\u001b[0;32m     32\u001b[0m     \u001b[38;5;28;01mraise\u001b[39;00m \u001b[38;5;167;01mValueError\u001b[39;00m(\u001b[38;5;124m\"\u001b[39m\u001b[38;5;124mThe \u001b[39m\u001b[38;5;124m'\u001b[39m\u001b[38;5;124mvalue\u001b[39m\u001b[38;5;124m'\u001b[39m\u001b[38;5;124m parameter must be a non-empty value.\u001b[39m\u001b[38;5;124m\"\u001b[39m)\n",
      "\u001b[1;31mValueError\u001b[0m: The 'filter_key' parameter must be a non-empty string."
     ]
    }
   ],
   "source": [
    "from collections import defaultdict\n",
    "\n",
    "data = [\n",
    "    {\"nombre\": \"Juan\", \"edad\": 28, \"ciudad\": \"Ciudad A\"},\n",
    "    {\"nombre\": \"Ana\", \"edad\": 22, \"ciudad\": \"Ciudad B\"},\n",
    "    {\"nombre\": \"Luis\", \"edad\": 30, \"ciudad\": \"Ciudad A\"},\n",
    "    {\"nombre\": \"Sara\", \"edad\": 28, \"ciudad\": \"Ciudad B\"},\n",
    "    {\"nombre\": \"Marta\", \"edad\": 28, \"ciudad\": \"Ciudad A\"},\n",
    "]\n",
    "\n",
    "\n",
    "def filter_and_group(info=[], filter_key='edad', value='28', group_by='ciudad'):\n",
    "    \"\"\"Filters a list of dictionaries based on a specific key-value pair and groups the results by another key.\n",
    "    \n",
    "    Args:\n",
    "        info (list of dict): List of dictionaries containing the data to be filtered and grouped.\n",
    "        filter_key (str): The key used to filter the dictionaries.\n",
    "        value (any): The value to filter the dictionaries by.\n",
    "        group_by (str): The key used to group the filtered results.\n",
    "    \n",
    "    Returns:\n",
    "        dict: A dictionary where keys are unique values from the `group_by` key and values are the counts of records in each group.\n",
    "    \"\"\"\n",
    "\n",
    "    if not info:\n",
    "        raise ValueError(\"The 'info' parameter must be a non-empty list of dictionaries.\")\n",
    "    \n",
    "    if not filter_key:\n",
    "        raise ValueError(\"The 'filter_key' parameter must be a non-empty string.\")\n",
    "    \n",
    "    if not value:\n",
    "        raise ValueError(\"The 'value' parameter must be a non-empty value.\")\n",
    "    \n",
    "    if not group_by:\n",
    "        raise ValueError(\"The 'group_by' parameter must be a non-empty string.\")\n",
    "    \n",
    "\n",
    "    filtered = [i for i in info if i.get(filter_key) == value]  # Filter records by the specified key-value pair\n",
    "    \n",
    "    grouped_count = defaultdict(int)    # Initialize a default dictionary to count occurrences by group\n",
    "    \n",
    "    for i in filtered:\n",
    "        group_value = i.get(group_by, None)   # Get the value of the grouping key\n",
    "        if group_value is not None:     # Ensure the grouping key exists in the record\n",
    "            grouped_count[group_value] += 1\n",
    "        else:\n",
    "            print(f\"Key no found '{group_by}' in: {i}\")   # Print a warning if the grouping key is missing\n",
    "    \n",
    "    return dict(grouped_count)          # Convert the defaultdict to a regular dictionary\n",
    "\n",
    "# Execute the function with a test list\n",
    "filter_and_group(data, \"edad\", 28, \"ciudad\")\n",
    "\n",
    "# Output esperado: {\"Ciudad A\": 2, \"Ciudad B\": 1}"
   ]
  }
 ],
 "metadata": {
  "kernelspec": {
   "display_name": "data-science-yFVXEr4j",
   "language": "python",
   "name": "python3"
  },
  "language_info": {
   "codemirror_mode": {
    "name": "ipython",
    "version": 3
   },
   "file_extension": ".py",
   "mimetype": "text/x-python",
   "name": "python",
   "nbconvert_exporter": "python",
   "pygments_lexer": "ipython3",
   "version": "3.13.0"
  }
 },
 "nbformat": 4,
 "nbformat_minor": 2
}
