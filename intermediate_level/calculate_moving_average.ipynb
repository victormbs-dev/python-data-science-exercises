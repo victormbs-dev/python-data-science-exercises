{
 "cells": [
  {
   "cell_type": "code",
   "execution_count": 7,
   "metadata": {},
   "outputs": [
    {
     "data": {
      "text/plain": [
       "[30.0, 40.0, 50.0, 60.0]"
      ]
     },
     "execution_count": 7,
     "metadata": {},
     "output_type": "execute_result"
    }
   ],
   "source": [
    "\n",
    "\n",
    "def calculate_moving_average(list_values=[], window_size=0):\n",
    "    \"\"\"\n",
    "    Calculate the moving average of a list of values.\n",
    "    Args:\n",
    "        list_values (list of float): The list of numerical values to calculate\n",
    "        the moving average for.\n",
    "        window_size (int): The size of the moving window to calculate the\n",
    "        average.\n",
    "    Returns:\n",
    "        list of float: A list containing the moving averages.\n",
    "    \"\"\"\n",
    "\n",
    "    if not list_values:\n",
    "        raise ValueError(\"The list of values cannot be empty.\")\n",
    "    \n",
    "    if not all(isinstance(x, (int, float)) for x in list_values):\n",
    "        raise TypeError(\"The list of values must contain only numerical values.\")\n",
    "    \n",
    "    if window_size <= 0 or window_size > len(list_values):\n",
    "          raise ValueError(\"window_size must be greater than 0 and less than the length of list_values.\")\n",
    "    \n",
    "\n",
    "    result = []\n",
    "    current_sum = sum(list_values[:window_size])\n",
    "    result.append(current_sum / window_size)\n",
    "\n",
    "    for i in range(window_size, len(list_values)):\n",
    "        current_sum += list_values[i] - list_values[i - window_size]\n",
    "        result.append(current_sum / window_size)\n",
    "\n",
    "    return result\n",
    "\n",
    "    \"\"\" sublists = [\n",
    "        sum(list_values[i:i+window_size])/window_size\n",
    "        for i in range(len(list_values)-(window_size-1))\n",
    "    ]\n",
    "\n",
    "    return sublists \"\"\"\n",
    "\n",
    "calculate_moving_average([10, 20, 30, 40, 50, 60, 70, 80], 5)\n"
   ]
  }
 ],
 "metadata": {
  "kernelspec": {
   "display_name": "data-science-yFVXEr4j",
   "language": "python",
   "name": "python3"
  },
  "language_info": {
   "codemirror_mode": {
    "name": "ipython",
    "version": 3
   },
   "file_extension": ".py",
   "mimetype": "text/x-python",
   "name": "python",
   "nbconvert_exporter": "python",
   "pygments_lexer": "ipython3",
   "version": "3.13.0"
  }
 },
 "nbformat": 4,
 "nbformat_minor": 2
}
