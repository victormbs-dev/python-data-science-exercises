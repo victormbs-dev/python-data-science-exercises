{
 "cells": [
  {
   "cell_type": "code",
   "execution_count": 15,
   "metadata": {},
   "outputs": [
    {
     "data": {
      "text/plain": [
       "[1, -2, 3, -4, 5]"
      ]
     },
     "execution_count": 15,
     "metadata": {},
     "output_type": "execute_result"
    }
   ],
   "source": [
    "def generate_number_sequence(type=\"incremento\", size=5, init_value=1):\n",
    "    \"\"\"\n",
    "    Generates a sequence of numbers based on the specified type.\n",
    "    Parameters:\n",
    "    type (str): The type of sequence to generate. Options are:\n",
    "                - \"incremento\": Generates an increasing sequence.\n",
    "                - \"decremento\": Generates a decreasing sequence.\n",
    "                - \"alternante\": Generates an alternating sequence.\n",
    "    size (int): The number of elements in the sequence. Must be a non-negative integer.\n",
    "    init_value (int): The starting value of the sequence. Must be a non-negative integer.\n",
    "    Returns:\n",
    "    list: A list containing the generated sequence of numbers, or None if invalid parameters are provided.\n",
    "    \"\"\"\n",
    "    \n",
    "    if type not in [\"incremento\", \"decremento\", \"alternante\"]:\n",
    "        print(\"Invalid type\")\n",
    "        return None\n",
    "    \n",
    "    if not isinstance(size, int) or size < 0:\n",
    "        print(\"Invalid size\")\n",
    "        return None\n",
    "    \n",
    "    if not isinstance(init_value, int) or init_value < 0:\n",
    "        print(\"Invalid init_value\")\n",
    "        return None\n",
    "    \n",
    "    \n",
    "\n",
    "    if type == \"incremento\":\n",
    "        final_list = [init_value + i for i in range(size)]\n",
    "    elif type == \"decremento\":\n",
    "        final_list = [init_value - i for i in range(size)]\n",
    "    elif type == \"alternante\":\n",
    "        final_list = [init_value + i if i % 2 == 0 else -abs(init_value + i) for i in range(size)]\n",
    "    else:\n",
    "        print(\"Invalid type\")\n",
    "        return None\n",
    "    return final_list\n",
    "\n",
    "\n",
    "\n",
    "\n",
    "generate_number_sequence(type=\"alternante\", size=5, init_value=1)"
   ]
  }
 ],
 "metadata": {
  "kernelspec": {
   "display_name": "data-science-yFVXEr4j",
   "language": "python",
   "name": "python3"
  },
  "language_info": {
   "codemirror_mode": {
    "name": "ipython",
    "version": 3
   },
   "file_extension": ".py",
   "mimetype": "text/x-python",
   "name": "python",
   "nbconvert_exporter": "python",
   "pygments_lexer": "ipython3",
   "version": "3.13.0"
  }
 },
 "nbformat": 4,
 "nbformat_minor": 2
}
