{
 "cells": [
  {
   "cell_type": "code",
   "execution_count": 6,
   "metadata": {},
   "outputs": [
    {
     "name": "stdout",
     "output_type": "stream",
     "text": [
      "[[8, 2], [7, 3], [6, 4], [5]]\n"
     ]
    }
   ],
   "source": [
    "def optimize_inventory(products, capacity):\n",
    "    \"\"\"\n",
    "    Optimize the distribution of products across warehouses given a capacity constraint.\n",
    "    This function takes a list of product sizes and a warehouse capacity, and distributes\n",
    "    the products into the minimum number of warehouses such that the sum of the sizes of\n",
    "    the products in each warehouse does not exceed the given capacity.\n",
    "    Parameters:\n",
    "    products (list of int): A list of integers representing the sizes of the products.\n",
    "    capacity (int): The maximum capacity of each warehouse.\n",
    "    Returns:\n",
    "    list of list of int: A list of warehouses, each represented as a list of product sizes.\n",
    "    Raises:\n",
    "    ValueError: If the products list is empty.\n",
    "    ValueError: If the capacity is not a positive integer.\n",
    "    ValueError: If any element in the products list is not an integer.\n",
    "    \"\"\"\n",
    "\n",
    "\n",
    "    \n",
    "    if not products:\n",
    "        raise ValueError(\"No products to optimize\")\n",
    "\n",
    "    if capacity <= 0 or not isinstance(capacity, int):\n",
    "        raise ValueError(\"Invalid capacity\")\n",
    "\n",
    "    if not all(isinstance(product, int) for product in products):\n",
    "        raise ValueError(\"products must be a list of integers\")\n",
    "\n",
    "    products.sort(reverse=True)\n",
    "    \n",
    "    warehouses = []\n",
    "    \n",
    "    for product in products:\n",
    "        placed = False\n",
    "        \n",
    "        for warehouse in warehouses:\n",
    "            if sum(warehouse) + product <= capacity:\n",
    "                warehouse.append(product)\n",
    "                placed = True\n",
    "                break\n",
    "        \n",
    "        if not placed:\n",
    "            warehouses.append([product])\n",
    "    \n",
    "    return warehouses\n",
    "\n",
    "products = [5, 8, 3, 7, 2, 6, 4]\n",
    "capacity = 10\n",
    "optimize_inventory(products, capacity)\n"
   ]
  }
 ],
 "metadata": {
  "kernelspec": {
   "display_name": "data-science-yFVXEr4j",
   "language": "python",
   "name": "python3"
  },
  "language_info": {
   "codemirror_mode": {
    "name": "ipython",
    "version": 3
   },
   "file_extension": ".py",
   "mimetype": "text/x-python",
   "name": "python",
   "nbconvert_exporter": "python",
   "pygments_lexer": "ipython3",
   "version": "3.13.0"
  }
 },
 "nbformat": 4,
 "nbformat_minor": 2
}
