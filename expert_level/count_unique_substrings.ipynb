{
 "cells": [
  {
   "cell_type": "code",
   "execution_count": 1,
   "metadata": {},
   "outputs": [
    {
     "name": "stdout",
     "output_type": "stream",
     "text": [
      "{'ban': 1, 'ana': 2, 'nan': 1}\n"
     ]
    }
   ],
   "source": [
    "def count_unique_substrings(text, n):\n",
    "    \"\"\"\n",
    "    Count the occurrences of all unique substrings of length n in the given text.\n",
    "    Parameters:\n",
    "    text (str): The input string in which to count substrings.\n",
    "    n (int): The length of the substrings to count.\n",
    "    Returns:\n",
    "    dict: A dictionary where the keys are unique substrings of length n and the values are their respective counts.\n",
    "    Raises:\n",
    "    ValueError: If n is not a positive integer less than or equal to the length of the text.\n",
    "    \"\"\"\n",
    "\n",
    "    if n > len(text) or n <= 0:\n",
    "        raise ValueError(\"n must be a positive integer less than or equal to the length of the text\")\n",
    "    \n",
    "    substring_counts = {}\n",
    "    \n",
    "    for i in range(len(text) - n + 1):\n",
    "        substring = text[i:i + n]\n",
    "        substring_counts[substring] = substring_counts.get(substring, 0) + 1\n",
    "    \n",
    "    return substring_counts\n",
    "\n",
    "print(count_unique_substrings(\"banana\", 3))\n"
   ]
  }
 ],
 "metadata": {
  "kernelspec": {
   "display_name": "data-science-yFVXEr4j",
   "language": "python",
   "name": "python3"
  },
  "language_info": {
   "codemirror_mode": {
    "name": "ipython",
    "version": 3
   },
   "file_extension": ".py",
   "mimetype": "text/x-python",
   "name": "python",
   "nbconvert_exporter": "python",
   "pygments_lexer": "ipython3",
   "version": "3.13.0"
  }
 },
 "nbformat": 4,
 "nbformat_minor": 2
}
