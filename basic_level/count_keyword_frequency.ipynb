{
 "cells": [
  {
   "cell_type": "code",
   "execution_count": 1,
   "metadata": {},
   "outputs": [
    {
     "name": "stdout",
     "output_type": "stream",
     "text": [
      "[{'bueno': 1, 'malo': 0, 'excelente': 0}, {'bueno': 1, 'malo': 1, 'excelente': 0}, {'bueno': 0, 'malo': 0, 'excelente': 1}, {'bueno': 3, 'malo': 0, 'excelente': 0}]\n"
     ]
    }
   ],
   "source": [
    "import re\n",
    "\n",
    "def count_keyword_frequency(phrases=None, key_words=None):\n",
    "    \"\"\"\n",
    "    Counts the frequency of specified keywords in a list of phrases using regex for precise word matching.\n",
    "\n",
    "    Parameters:\n",
    "        phrases (list): A list of strings, where each string is a phrase to analyze.\n",
    "        key_words (list): A list of keywords (strings) to count in the phrases.\n",
    "\n",
    "    Returns:\n",
    "        list: A list of dictionaries, where each dictionary corresponds to a\n",
    "              phrase and contains the frequency of each keyword.\n",
    "    \"\"\"\n",
    "    if not phrases:\n",
    "        raise ValueError(\"No phrases found\")\n",
    "    \n",
    "    if not key_words:\n",
    "        raise ValueError(\"No key_words found\")\n",
    "\n",
    "    if not all(isinstance(phrase, str) for phrase in phrases):\n",
    "        raise TypeError(\"All phrases must be strings\")\n",
    "    \n",
    "    if not all(isinstance(key_word, str) for key_word in key_words):\n",
    "        raise TypeError(\"All key_words must be strings\")\n",
    "    \n",
    "    result = []\n",
    "    \n",
    "    for phrase in phrases:\n",
    "        frequency = {}\n",
    "        lower_phrase = phrase.lower()\n",
    "        \n",
    "        for keyword in key_words:\n",
    "            pattern = r'\\b' + re.escape(keyword.lower()) + r'\\b'\n",
    "            matches = re.findall(pattern, lower_phrase)\n",
    "            frequency[keyword] = len(matches)\n",
    "        \n",
    "        result.append(frequency)\n",
    "    \n",
    "    return result\n",
    "\n",
    "# Ejemplo de uso\n",
    "phrases = [\n",
    "    \"el producto es bueno y bonito\",\n",
    "    \"bueno y malo a la vez\",\n",
    "    \"excelente servicio\",\n",
    "    \"bueno, bueno y más bueno\"\n",
    "]\n",
    "\n",
    "key_words = [\n",
    "    \"bueno\",\n",
    "    \"malo\",\n",
    "    \"excelente\"\n",
    "]\n",
    "\n",
    "print(count_keyword_frequency(phrases, key_words))"
   ]
  }
 ],
 "metadata": {
  "kernelspec": {
   "display_name": "data-science-yFVXEr4j",
   "language": "python",
   "name": "python3"
  },
  "language_info": {
   "codemirror_mode": {
    "name": "ipython",
    "version": 3
   },
   "file_extension": ".py",
   "mimetype": "text/x-python",
   "name": "python",
   "nbconvert_exporter": "python",
   "pygments_lexer": "ipython3",
   "version": "3.13.0"
  }
 },
 "nbformat": 4,
 "nbformat_minor": 2
}
