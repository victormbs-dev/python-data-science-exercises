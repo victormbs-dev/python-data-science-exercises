{
 "cells": [
  {
   "cell_type": "code",
   "execution_count": 26,
   "metadata": {},
   "outputs": [
    {
     "ename": "ValueError",
     "evalue": "All elements in the list must be numbers(int or float).",
     "output_type": "error",
     "traceback": [
      "\u001b[1;31m---------------------------------------------------------------------------\u001b[0m",
      "\u001b[1;31mValueError\u001b[0m                                Traceback (most recent call last)",
      "Cell \u001b[1;32mIn[26], line 50\u001b[0m\n\u001b[0;32m     45\u001b[0m         final_list\u001b[38;5;241m.\u001b[39mappend(result)\n\u001b[0;32m     47\u001b[0m     \u001b[38;5;28;01mreturn\u001b[39;00m final_list\n\u001b[1;32m---> 50\u001b[0m \u001b[43mclassify_temperatures\u001b[49m\u001b[43m(\u001b[49m\u001b[43m[\u001b[49m\u001b[38;5;241;43m32\u001b[39;49m\u001b[43m,\u001b[49m\u001b[43m \u001b[49m\u001b[38;5;241;43m68\u001b[39;49m\u001b[43m,\u001b[49m\u001b[43m \u001b[49m\u001b[38;5;124;43m\"\u001b[39;49m\u001b[38;5;124;43mHola\u001b[39;49m\u001b[38;5;124;43m\"\u001b[39;49m\u001b[43m,\u001b[49m\u001b[43m \u001b[49m\u001b[38;5;241;43m104\u001b[39;49m\u001b[43m]\u001b[49m\u001b[43m)\u001b[49m\n",
      "Cell \u001b[1;32mIn[26], line 28\u001b[0m, in \u001b[0;36mclassify_temperatures\u001b[1;34m(temperatures)\u001b[0m\n\u001b[0;32m     25\u001b[0m     \u001b[38;5;28;01mraise\u001b[39;00m \u001b[38;5;167;01mValueError\u001b[39;00m(\u001b[38;5;124m\"\u001b[39m\u001b[38;5;124mThe input must be a list of numeric values.\u001b[39m\u001b[38;5;124m\"\u001b[39m)\n\u001b[0;32m     27\u001b[0m \u001b[38;5;28;01mif\u001b[39;00m \u001b[38;5;129;01mnot\u001b[39;00m \u001b[38;5;28mall\u001b[39m(\u001b[38;5;28misinstance\u001b[39m(tem, (\u001b[38;5;28mint\u001b[39m, \u001b[38;5;28mfloat\u001b[39m)) \u001b[38;5;28;01mfor\u001b[39;00m tem \u001b[38;5;129;01min\u001b[39;00m temperatures):\n\u001b[1;32m---> 28\u001b[0m     \u001b[38;5;28;01mraise\u001b[39;00m \u001b[38;5;167;01mValueError\u001b[39;00m(\u001b[38;5;124m\"\u001b[39m\u001b[38;5;124mAll elements in the list must be numbers\u001b[39m\u001b[38;5;124m\"\u001b[39m\n\u001b[0;32m     29\u001b[0m                      \u001b[38;5;124m\"\u001b[39m\u001b[38;5;124m(int or float).\u001b[39m\u001b[38;5;124m\"\u001b[39m)\n\u001b[0;32m     31\u001b[0m final_list \u001b[38;5;241m=\u001b[39m []\n\u001b[0;32m     33\u001b[0m \u001b[38;5;28;01mfor\u001b[39;00m t \u001b[38;5;129;01min\u001b[39;00m temperatures:\n",
      "\u001b[1;31mValueError\u001b[0m: All elements in the list must be numbers(int or float)."
     ]
    }
   ],
   "source": [
    "\n",
    "\n",
    "def classify_temperatures(temperatures):\n",
    "\n",
    "    \"\"\"\n",
    "    Converts a list of temperatures from Fahrenheit to Celsius and classifies\n",
    "    each temperature\n",
    "    into a category based on its Celsius value.\n",
    "\n",
    "    Parameters:\n",
    "        temperatures (list): A list of numeric values representing\n",
    "        temperatures in Fahrenheit.\n",
    "\n",
    "    Returns:\n",
    "        dict: A dictionary containing:\n",
    "            - 'F': The original temperature in Fahrenheit.\n",
    "            - 'Celsius': The converted temperature in Celsius (rounded to one\n",
    "                decimal place).\n",
    "            - 'Category': The classification of the temperature as one of\n",
    "                'High', 'Middle', or 'Low'.\n",
    "    \"\"\"\n",
    "\n",
    "    if not temperatures:\n",
    "        raise TypeError(\"The list cannot be empty.\")\n",
    "\n",
    "    if not isinstance(temperatures, list):\n",
    "        raise ValueError(\"The input must be a list of numeric values.\")\n",
    "\n",
    "    if not all(isinstance(tem, (int, float)) for tem in temperatures):\n",
    "        raise ValueError(\"All elements in the list must be numbers\"\n",
    "                         \"(int or float).\")\n",
    "\n",
    "    final_list = []\n",
    "\n",
    "    for t in temperatures:\n",
    "        convertion = round((t - 32) * 5/9, 1)\n",
    "        category = ''\n",
    "\n",
    "        if convertion > 25:\n",
    "            category = 'Hight'\n",
    "        elif convertion >= 15:\n",
    "            category = 'Middle'\n",
    "        else:\n",
    "            category = 'Low'\n",
    "\n",
    "        result = dict(F=t, Celsius=convertion, Category=category)\n",
    "        final_list.append(result)\n",
    "\n",
    "    return final_list\n",
    "\n",
    "\n",
    "classify_temperatures([32, 68, \"Hola\", 104])\n"
   ]
  }
 ],
 "metadata": {
  "kernelspec": {
   "display_name": "data-science-yFVXEr4j",
   "language": "python",
   "name": "python3"
  },
  "language_info": {
   "codemirror_mode": {
    "name": "ipython",
    "version": 3
   },
   "file_extension": ".py",
   "mimetype": "text/x-python",
   "name": "python",
   "nbconvert_exporter": "python",
   "pygments_lexer": "ipython3",
   "version": "3.13.0"
  }
 },
 "nbformat": 4,
 "nbformat_minor": 2
}
