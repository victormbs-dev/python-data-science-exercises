{
 "cells": [
  {
   "cell_type": "code",
   "execution_count": 13,
   "metadata": {},
   "outputs": [
    {
     "data": {
      "text/plain": [
       "{'valid': ['5551234567', '5551234567', '1234567890', '5512345678'],\n",
       " 'invalid': ['Hello, World!']}"
      ]
     },
     "execution_count": 13,
     "metadata": {},
     "output_type": "execute_result"
    }
   ],
   "source": [
    "import re\n",
    "\n",
    "def clean_phone_numbers(numbers=[]):\n",
    "\n",
    "    \"\"\"\n",
    "    Cleans and validates a list of phone numbers by removing formatting\n",
    "        characters\n",
    "    and ensuring they are valid 10-digit numbers.\n",
    "\n",
    "    Parameters:\n",
    "        numbers (list): A list of strings representing phone numbers in\n",
    "            various formats.\n",
    "\n",
    "    Returns:\n",
    "        list: A list of cleaned phone numbers as 10-digit strings.\n",
    "    \"\"\"\n",
    "\n",
    "    if not numbers:\n",
    "        raise ValueError(\"No phone numbers found.\")\n",
    "\n",
    "    valid_numbers = []\n",
    "    invalid_numbers = []\n",
    "\n",
    "    for number in numbers:\n",
    "\n",
    "        number_cleaned = re.sub(r\"[^\\d]\", \"\", number)\n",
    "\n",
    "        if len(number_cleaned) > 10:\n",
    "            number_cleaned = number_cleaned[-10:]\n",
    "\n",
    "        if len(number_cleaned) == 10 and number_cleaned.isdigit():\n",
    "            valid_numbers.append(number_cleaned)\n",
    "        else:\n",
    "            invalid_numbers.append(number)\n",
    "\n",
    "    return dict(valid = valid_numbers, invalid = invalid_numbers)\n",
    "\n",
    "\n",
    "clean_phone_numbers([\"+1 (555) 123-4567\", \"555-123-4567\", \"1234567890\",\n",
    "                     \"+52 55 1234 5678\", \"Hello, World!\"])\n"
   ]
  }
 ],
 "metadata": {
  "kernelspec": {
   "display_name": "data-science-yFVXEr4j",
   "language": "python",
   "name": "python3"
  },
  "language_info": {
   "codemirror_mode": {
    "name": "ipython",
    "version": 3
   },
   "file_extension": ".py",
   "mimetype": "text/x-python",
   "name": "python",
   "nbconvert_exporter": "python",
   "pygments_lexer": "ipython3",
   "version": "3.13.0"
  }
 },
 "nbformat": 4,
 "nbformat_minor": 2
}
