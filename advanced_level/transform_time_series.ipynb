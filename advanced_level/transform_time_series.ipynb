{
 "cells": [
  {
   "cell_type": "code",
   "execution_count": 8,
   "metadata": {},
   "outputs": [
    {
     "data": {
      "text/plain": [
       "[{'media': np.float64(2.0), 'suma': np.int64(6), 'deviacion': np.float64(0.8)},\n",
       " {'media': np.float64(3.0), 'suma': np.int64(9), 'deviacion': np.float64(0.8)},\n",
       " {'media': np.float64(4.0),\n",
       "  'suma': np.int64(12),\n",
       "  'deviacion': np.float64(0.8)},\n",
       " {'media': np.float64(5.0),\n",
       "  'suma': np.int64(15),\n",
       "  'deviacion': np.float64(0.8)},\n",
       " {'media': np.float64(6.0),\n",
       "  'suma': np.int64(18),\n",
       "  'deviacion': np.float64(0.8)},\n",
       " {'media': np.float64(7.0),\n",
       "  'suma': np.int64(21),\n",
       "  'deviacion': np.float64(0.8)},\n",
       " {'media': np.float64(8.0),\n",
       "  'suma': np.int64(24),\n",
       "  'deviacion': np.float64(0.8)},\n",
       " {'media': np.float64(9.0),\n",
       "  'suma': np.int64(27),\n",
       "  'deviacion': np.float64(0.8)}]"
      ]
     },
     "execution_count": 8,
     "metadata": {},
     "output_type": "execute_result"
    }
   ],
   "source": [
    "import numpy as np\n",
    "\n",
    "def transform_time_series(list_values=[], window_size=0):\n",
    "    \"\"\"\n",
    "    Transforms a list of numerical values into a list of dictionaries containing statistical metrics \n",
    "    (mean, sum, and standard deviation) for each sliding window of the specified size.\n",
    "    Parameters:\n",
    "    list_values (list): A list of numerical values (integers or floats).\n",
    "    window_size (int): The size of the sliding window.\n",
    "    Returns:\n",
    "    list: A list of dictionaries, each containing the following keys:\n",
    "        - \"media\": The mean of the values in the current window, rounded to one decimal place.\n",
    "        - \"suma\": The sum of the values in the current window.\n",
    "        - \"deviacion\": The standard deviation of the values in the current window, rounded to one decimal place.\n",
    "    Raises:\n",
    "    ValueError: If window_size is less than or equal to 0, greater than the length of list_values, \n",
    "                if list_values is empty, or if list_values contains non-numerical values.\n",
    "    \"\"\"\n",
    "\n",
    "\n",
    "\n",
    "    if window_size <= 0 or window_size > len(list_values):\n",
    "        raise ValueError(\"window_size cannot be 0 or greater than the length of the list_values\")\n",
    "    \n",
    "    if len(list_values) == 0:\n",
    "        raise ValueError(\"list_values cannot be empty\")\n",
    "    \n",
    "    if not all(isinstance(x, (int, float)) for x in list_values):\n",
    "        raise ValueError(\"list_values must contain only integers or floats\")\n",
    "\n",
    "    \n",
    "    sublist = [{\"media\":round(np.mean(list_values[i:i+window_size]), 1), \"suma\":np.sum(list_values[i:i+window_size]), \"deviacion\":round(np.std(list_values[i:i+window_size]),1)} for i in range(len(list_values)-(window_size-1))]\n",
    "    return sublist\n",
    "\n",
    "\n",
    "transform_time_series([1, 2, 3, 4, 5, 6, 7, 8, 9, 10], 3)"
   ]
  }
 ],
 "metadata": {
  "kernelspec": {
   "display_name": "data-science-yFVXEr4j",
   "language": "python",
   "name": "python3"
  },
  "language_info": {
   "codemirror_mode": {
    "name": "ipython",
    "version": 3
   },
   "file_extension": ".py",
   "mimetype": "text/x-python",
   "name": "python",
   "nbconvert_exporter": "python",
   "pygments_lexer": "ipython3",
   "version": "3.13.0"
  }
 },
 "nbformat": 4,
 "nbformat_minor": 2
}
