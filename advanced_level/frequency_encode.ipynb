{
 "cells": [
  {
   "cell_type": "code",
   "execution_count": 15,
   "metadata": {},
   "outputs": [
    {
     "name": "stdout",
     "output_type": "stream",
     "text": [
      "{'rojo': 0.3333333333333333, 'azul': 0.5, 'verde': 0.16666666666666666}\n"
     ]
    },
    {
     "data": {
      "text/plain": [
       "[0.33, 0.5, 0.33, 0.17, 0.5, 0.5]"
      ]
     },
     "execution_count": 15,
     "metadata": {},
     "output_type": "execute_result"
    }
   ],
   "source": [
    "from collections import Counter\n",
    "\n",
    "def frequency_encode(values_list=[]):\n",
    "    \"\"\"\n",
    "    Perform frequency encoding on a list of categorical variables.\n",
    "\n",
    "    Args:\n",
    "        category_list (list): A list of categorical values.\n",
    "\n",
    "    Returns:\n",
    "        list: A list of frequency-encoded values.\n",
    "    \"\"\"\n",
    "    if not values_list:\n",
    "        raise ValueError(\"The list of values is empty.\")\n",
    "    \n",
    "    if not all(isinstance(value, str) for value in values_list):\n",
    "        raise ValueError(\"The list contains non-string values.\")\n",
    "\n",
    "\n",
    "    counts = Counter(values_list)\n",
    "    list_length = len(values_list)\n",
    "\n",
    "    # Calculate the frequency relative to the total count\n",
    "    frequencies = {key: value / list_length for key, value in counts.items()}\n",
    "\n",
    "    # Replace each category in the list with its frequency\n",
    "    encoded_list = [round(frequencies[item],2) for item in values_list]\n",
    "\n",
    "    return encoded_list\n",
    "\n",
    "frequency_encode([\"rojo\", \"azul\", \"rojo\", \"verde\", \"azul\", \"azul\"])\n",
    "\n",
    "# Output esperado: [0.33, 0.5, 0.33, 0.17, 0.5, 0.5]"
   ]
  }
 ],
 "metadata": {
  "kernelspec": {
   "display_name": "data-science-yFVXEr4j",
   "language": "python",
   "name": "python3"
  },
  "language_info": {
   "codemirror_mode": {
    "name": "ipython",
    "version": 3
   },
   "file_extension": ".py",
   "mimetype": "text/x-python",
   "name": "python",
   "nbconvert_exporter": "python",
   "pygments_lexer": "ipython3",
   "version": "3.13.0"
  }
 },
 "nbformat": 4,
 "nbformat_minor": 2
}
