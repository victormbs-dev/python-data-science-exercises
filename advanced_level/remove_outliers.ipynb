{
 "cells": [
  {
   "cell_type": "code",
   "execution_count": 4,
   "metadata": {},
   "outputs": [
    {
     "name": "stdout",
     "output_type": "stream",
     "text": [
      "{'cleaned_list': [10, 12, 14, 15, 18, 22, 23, 30], 'removed_values': [100]}\n"
     ]
    }
   ],
   "source": [
    "import numpy as np\n",
    "\n",
    "\n",
    "def remove_outliers(list_numbers=[]):\n",
    "    \"\"\"\n",
    "    Removes outliers from a list of numbers using the Interquartile Range (IQR) method.\n",
    "    Parameters:\n",
    "    list_numbers (list): A list of numeric values (integers or floats).\n",
    "    Returns:\n",
    "    dict: A dictionary with two keys:\n",
    "        - 'cleaned_list': A list of numbers with outliers removed.\n",
    "        - 'removed_values': A list of the outliers that were removed.\n",
    "    Raises:\n",
    "    ValueError: If the input list is empty or contains non-numeric values.\n",
    "    \"\"\"\n",
    "    \n",
    "\n",
    "    if len(list_numbers) < 2:\n",
    "        raise ValueError(\"The list is empty\")\n",
    "    \n",
    "    if not all(isinstance(i, (int, float)) for i in list_numbers):\n",
    "        raise ValueError(\"The list contains non-numeric values\")\n",
    "    \n",
    "    Q1 = np.percentile(list_numbers, 25)\n",
    "    Q3 = np.percentile(list_numbers, 75)\n",
    "\n",
    "    range_IQR = Q3 - Q1\n",
    "    limits_Q1 = Q1 - 1.5 * range_IQR\n",
    "    limits_Q3 = Q3 + 1.5 * range_IQR\n",
    "\n",
    "    final_list = [i for i in list_numbers if i>=limits_Q1 and i<= limits_Q3]\n",
    "    numbers_removed = [i for i in list_numbers if i<limits_Q1 or i> limits_Q3]\n",
    "\n",
    "    return dict(cleaned_list=final_list, removed_values=numbers_removed)\n",
    "\n",
    "\n",
    "\n",
    "print(remove_outliers([10, 12, 14, 15, 18, 22, 23, 30, 100]))\n",
    "\n",
    "# Output esperado: [10, 12, 14, 15, 18, 22, 23, 30]  # Eliminando el valor extremo de 100"
   ]
  }
 ],
 "metadata": {
  "kernelspec": {
   "display_name": "Python 3",
   "language": "python",
   "name": "python3"
  },
  "language_info": {
   "codemirror_mode": {
    "name": "ipython",
    "version": 3
   },
   "file_extension": ".py",
   "mimetype": "text/x-python",
   "name": "python",
   "nbconvert_exporter": "python",
   "pygments_lexer": "ipython3",
   "version": "3.13.0"
  }
 },
 "nbformat": 4,
 "nbformat_minor": 2
}
